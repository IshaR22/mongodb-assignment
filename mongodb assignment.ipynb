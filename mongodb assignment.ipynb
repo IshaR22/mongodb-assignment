{
 "cells": [
  {
   "cell_type": "code",
   "execution_count": null,
   "id": "735fb5bd-7db6-45d4-83a1-c0951d55b832",
   "metadata": {},
   "outputs": [],
   "source": [
    "Q1. What is MongoDB? Explain non-relational databases in short. In which scenarios it is preferred to use\n",
    "MongoDB over SQL databases?"
   ]
  },
  {
   "cell_type": "code",
   "execution_count": null,
   "id": "ba9b7f3d-a4fe-42b7-af65-bd9d2504b6af",
   "metadata": {},
   "outputs": [],
   "source": [
    "MongoDB is a popular non-relational database, also known as a NoSQL database, designed for handling large amounts of\n",
    "unstructured or semi-structured data. Unlike relational databases (RDBMS), MongoDB does not enforce a predefined \n",
    "schema, allowing for flexible and dynamic data modeling. This flexibility makes it suitable for applications \n",
    "requiring:\n",
    "large amounts of unstructured or semi-structured data\n",
    "Fast data retrieval and insertion, as MongoDB uses a document-based data model and supports efficient indexing.\n"
   ]
  },
  {
   "cell_type": "code",
   "execution_count": null,
   "id": "38c76c82-c8ce-482e-8a80-a4448a33056b",
   "metadata": {},
   "outputs": [],
   "source": [
    "Q2. State and Explain the features of MongoDB."
   ]
  },
  {
   "cell_type": "code",
   "execution_count": null,
   "id": "0faad3ef-d834-4f76-a20e-d6973f2fc146",
   "metadata": {},
   "outputs": [],
   "source": [
    "MongoDB is a powerful and flexible NoSQL database that offers several key features such as\n",
    "CRUD operations: MongoDB supports basic CRUD (Create, Read, Update, Delete) operations, making it easy to interact\n",
    "with data.\n",
    "Schema-less: MongoDB does not require a predefined schema, allowing for flexible and dynamic data modeling.\n",
    "Document-based: Data is stored as JSON-like documents, making it easy to work with and query.\n",
    "High-performance: MongoDB is designed for high-performance data management, with features like caching, indexing, \n",
    "and parallel processing.\n",
    "Horizontal scalability: MongoDB can scale horizontally by adding more nodes to the cluster, making it easy to handle\n",
    "large volumes of data and traffic."
   ]
  },
  {
   "cell_type": "code",
   "execution_count": null,
   "id": "a0f1d229-922a-4979-a687-1427607e4c7e",
   "metadata": {},
   "outputs": [],
   "source": [
    "Q3. Write a code to connect MongoDB to Python. Also, create a database and a collection in MongoDB."
   ]
  },
  {
   "cell_type": "code",
   "execution_count": 4,
   "id": "7eaacd25-93c6-4d91-b94c-0c96c1011ce2",
   "metadata": {},
   "outputs": [
    {
     "name": "stdout",
     "output_type": "stream",
     "text": [
      "Requirement already satisfied: pymongo in /opt/conda/lib/python3.10/site-packages (4.8.0)\n",
      "Requirement already satisfied: dnspython<3.0.0,>=1.16.0 in /opt/conda/lib/python3.10/site-packages (from pymongo) (2.6.1)\n",
      "Note: you may need to restart the kernel to use updated packages.\n"
     ]
    }
   ],
   "source": [
    "pip install pymongo"
   ]
  },
  {
   "cell_type": "code",
   "execution_count": 5,
   "id": "ac5e931a-7188-4200-b7f8-4310c4aad543",
   "metadata": {},
   "outputs": [],
   "source": [
    "from pymongo import MongoClient"
   ]
  },
  {
   "cell_type": "code",
   "execution_count": 6,
   "id": "ced01a57-4011-44ad-bef8-088e83155fa1",
   "metadata": {},
   "outputs": [],
   "source": [
    "client = MongoClient('mongodb://localhost:27017/')"
   ]
  },
  {
   "cell_type": "code",
   "execution_count": 7,
   "id": "ba6db4a7-0747-46e0-9925-56e4ab313206",
   "metadata": {},
   "outputs": [],
   "source": [
    "db = client['mydatabase']\n",
    "collection = db['mycollection']"
   ]
  },
  {
   "cell_type": "code",
   "execution_count": null,
   "id": "26ac462e-4094-42aa-8e1c-5d8cc9fdc59d",
   "metadata": {},
   "outputs": [],
   "source": [
    "if not db.list_collection_names():\n",
    "    db.create_collection('mycollection')"
   ]
  },
  {
   "cell_type": "code",
   "execution_count": null,
   "id": "39a77eae-757c-4fc7-bf34-3da78163d933",
   "metadata": {},
   "outputs": [],
   "source": [
    "data = {'name': 'John', 'age': 30}\n",
    "collection.insert_one(data)"
   ]
  },
  {
   "cell_type": "code",
   "execution_count": null,
   "id": "ef6c9c89-b877-4938-9040-5a0648016a7c",
   "metadata": {},
   "outputs": [],
   "source": [
    "from pymongo import MongoClient\n",
    "\n",
    "client = MongoClient('mongodb://localhost:27017/')\n",
    "db = client['mydatabase']\n",
    "collection = db['mycollection']\n",
    "\n",
    "if not db.list_collection_names():\n",
    "    db.create_collection('mycollection')\n",
    "\n",
    "data = {'name': 'John', 'age': 30}\n",
    "collection.insert_one(data)"
   ]
  },
  {
   "cell_type": "code",
   "execution_count": null,
   "id": "1868e9d8-0e1b-44c2-88a1-9b2e362924f0",
   "metadata": {},
   "outputs": [],
   "source": [
    "Q4. Using the database and the collection created in question number 3, write a code to insert one record,\n",
    "and insert many records. Use the find() and find_one() methods to print the inserted record."
   ]
  },
  {
   "cell_type": "code",
   "execution_count": null,
   "id": "97a33d6d-447b-44b5-b2a2-90aa822a0239",
   "metadata": {},
   "outputs": [],
   "source": [
    "data={\"name\":\"isha\",\n",
    "      \"roll_no\":5\n",
    "     }\n",
    "db=client['pwskills']\n",
    "coll = db[\"my_record\"]\n",
    "coll.insert_one(data)\n",
    "coll.find()"
   ]
  },
  {
   "cell_type": "code",
   "execution_count": null,
   "id": "3c256ae7-88fe-4e8c-9901-89e82003ad28",
   "metadata": {},
   "outputs": [],
   "source": [
    "Q5. Explain how you can use the find() method to query the MongoDB database. Write a simple code to\n",
    "demonstrate this."
   ]
  },
  {
   "cell_type": "code",
   "execution_count": null,
   "id": "4911df6a-ab96-4823-b78e-4cd4849b9dd3",
   "metadata": {},
   "outputs": [],
   "source": [
    "The find() method in MongoDB is a primary way to retrieve documents from a collection. I"
   ]
  },
  {
   "cell_type": "code",
   "execution_count": 20,
   "id": "edda5f89-b924-4e60-b7e3-8ab2899842ce",
   "metadata": {},
   "outputs": [
    {
     "data": {
      "text/plain": [
       "<pymongo.cursor.Cursor at 0x7fbea2d3bc10>"
      ]
     },
     "execution_count": 20,
     "metadata": {},
     "output_type": "execute_result"
    }
   ],
   "source": [
    "student={\"name\":\"isha\",\n",
    "      \"roll_no\":5\n",
    "     }\n",
    "db.student.find({\"name\":\"isha\"})  "
   ]
  },
  {
   "cell_type": "code",
   "execution_count": null,
   "id": "2e8824e0-21eb-44a1-89e5-e8c74a986bf9",
   "metadata": {},
   "outputs": [],
   "source": [
    "Q6. Explain the sort() method. Give an example to demonstrate sorting in MongoDB."
   ]
  },
  {
   "cell_type": "code",
   "execution_count": null,
   "id": "60e976de-bc83-46d6-aa14-e610c4ecf2d0",
   "metadata": {},
   "outputs": [],
   "source": [
    "The sort() method in MongoDB is used to specify the order in which query results are returned from a collection. \n",
    "ascending (1) or descending (-1) order\n",
    "syntax:\n",
    "    db.collection.find().sort({field1: 1, field2: -1})"
   ]
  },
  {
   "cell_type": "code",
   "execution_count": null,
   "id": "d94db63f-430c-4369-8e97-9ccacefdea2c",
   "metadata": {},
   "outputs": [],
   "source": [
    "Q7. Explain why delete_one(), delete_many(), and drop() is used."
   ]
  },
  {
   "cell_type": "code",
   "execution_count": null,
   "id": "6c6c08ab-2628-42c0-89c2-fd9cd9b21461",
   "metadata": {},
   "outputs": [],
   "source": [
    "Delete_many() is used when one needs to delete more than one document. A query object containing which document \n",
    "to be deleted is created and is passed as the first parameter to the delete_many().\n",
    "\n",
    "drop() is used to drop the collection.\n",
    "\n",
    "delete_one() is use ti delete one collection."
   ]
  }
 ],
 "metadata": {
  "kernelspec": {
   "display_name": "Python 3 (ipykernel)",
   "language": "python",
   "name": "python3"
  },
  "language_info": {
   "codemirror_mode": {
    "name": "ipython",
    "version": 3
   },
   "file_extension": ".py",
   "mimetype": "text/x-python",
   "name": "python",
   "nbconvert_exporter": "python",
   "pygments_lexer": "ipython3",
   "version": "3.10.8"
  }
 },
 "nbformat": 4,
 "nbformat_minor": 5
}
